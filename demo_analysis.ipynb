{
 "cells": [
  {
   "cell_type": "code",
   "execution_count": 6,
   "metadata": {},
   "outputs": [
    {
     "name": "stdout",
     "output_type": "stream",
     "text": [
      "          reason  round  start_tick winner  end_tick\n",
      "0   bomb_defused      2        4670     CT     11005\n",
      "1   bomb_defused      3       10557     CT     16398\n",
      "2      ct_killed      4       15950      T     23410\n",
      "3  bomb_exploded      5       22962      T     29858\n",
      "4      ct_killed      6       29410      T     34887\n"
     ]
    }
   ],
   "source": [
    "from demo_analysis.data_preperator import Processor\n",
    "import pickle\n",
    "\n",
    "params = dict(\n",
    "    demo_path = \"demo_analysis/demo/match730_003673760416913162325_1520768583_129.dem\",\n",
    "    player_name = \"BERNARDO\",\n",
    "    columns = [\"pitch\", \"yaw\", \"X\", \"Y\", \"Z\", \"team_num\"]\n",
    ")\n",
    "\n",
    "processor = Processor(params[\"demo_path\"])\n",
    "data = processor.get_round_data(props=params['columns'])\n"
   ]
  },
  {
   "cell_type": "code",
   "execution_count": null,
   "metadata": {},
   "outputs": [],
   "source": []
  }
 ],
 "metadata": {
  "kernelspec": {
   "display_name": "Python 3",
   "language": "python",
   "name": "python3"
  },
  "language_info": {
   "codemirror_mode": {
    "name": "ipython",
    "version": 3
   },
   "file_extension": ".py",
   "mimetype": "text/x-python",
   "name": "python",
   "nbconvert_exporter": "python",
   "pygments_lexer": "ipython3",
   "version": "3.11.8"
  }
 },
 "nbformat": 4,
 "nbformat_minor": 2
}
