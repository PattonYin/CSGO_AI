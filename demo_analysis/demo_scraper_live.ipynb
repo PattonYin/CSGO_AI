{
 "cells": [
  {
   "cell_type": "code",
   "execution_count": 28,
   "metadata": {},
   "outputs": [
    {
     "name": "stdout",
     "output_type": "stream",
     "text": [
      "Cookie consent given!\n"
     ]
    }
   ],
   "source": [
    "from selenium import webdriver\n",
    "from selenium.webdriver.chrome.service import Service\n",
    "from selenium.webdriver.common.by import By\n",
    "from selenium.webdriver.chrome.options import Options\n",
    "import time\n",
    "\n",
    "\n",
    "the_map = \"de_dust2\"\n",
    "url = f\"https://www.hltv.org/results?content=demo&map={the_map}\"\n",
    "\n",
    "path_to_driver = r\"X:\\chrome_webdriver\\chromedriver-win64\\chromedriver.exe\"\n",
    "chrome_options = Options()\n",
    "# chrome_options.add_argument(\"--headless\")  # Run in headless mode\n",
    "driver = webdriver.Chrome(service=Service(path_to_driver), options=chrome_options)\n",
    "\n",
    "driver.get(url)\n",
    "driver.implicitly_wait(10)  # Wait up to 10 seconds for elements to appear\n",
    "\n",
    "try:\n",
    "    # Locate the button by its ID and click it\n",
    "    cookie_button = driver.find_element(By.ID, \"CybotCookiebotDialogBodyLevelButtonLevelOptinAllowAll\")\n",
    "    cookie_button.click()\n",
    "    print(\"Cookie consent given!\")\n",
    "except Exception as e:\n",
    "    print(\"Error clicking the button:\", e)\n",
    "\n"
   ]
  },
  {
   "cell_type": "code",
   "execution_count": 42,
   "metadata": {},
   "outputs": [
    {
     "name": "stdout",
     "output_type": "stream",
     "text": [
      "Results for May 29th 2024\n",
      "Virtus.pro\n",
      "1 - 2\n",
      "BIG\n",
      "IEM Dallas 2024\n",
      "bo3\n",
      "SINNERS\n",
      "2 - 0\n",
      "brazylijski luz\n",
      "YGames Pro Series 2024\n",
      "bo3\n",
      "Found link: https://www.hltv.org/matches/2372341/virtuspro-vs-big-iem-dallas-2024\n",
      "Found link: https://www.hltv.org/matches/2372547/sinners-vs-brazylijski-luz-ygames-pro-series-2024\n"
     ]
    }
   ],
   "source": [
    "# Use Selenium to find elements\n",
    "results_all = driver.find_elements(By.CSS_SELECTOR, '.results-all')[-1]\n",
    "per_day = results_all.find_elements(By.CSS_SELECTOR, '.results-sublist')\n",
    "\n",
    "\n",
    "links = per_day[0].find_elements(By.TAG_NAME, \"a\")\n",
    "for link in links:\n",
    "    href = link.get_attribute('href')\n",
    "    print(\"Found link:\", href)"
   ]
  },
  {
   "cell_type": "code",
   "execution_count": 47,
   "metadata": {},
   "outputs": [
    {
     "name": "stdout",
     "output_type": "stream",
     "text": [
      "Dates found: May 29th 2024\n"
     ]
    }
   ],
   "source": [
    "import re\n",
    "date_pattern = r\"(?i)(?:January|February|March|April|May|June|July|August|September|October|November|December)\\s\\d{1,2}(?:st|nd|rd|th)?\\s\\d{4}\"\n",
    "text_example = (per_day[0].text)\n",
    "dates = re.findall(date_pattern, text_example)[0]\n",
    "print(\"Dates found:\", dates)"
   ]
  },
  {
   "cell_type": "code",
   "execution_count": 48,
   "metadata": {},
   "outputs": [],
   "source": [
    "import pandas as pd"
   ]
  },
  {
   "cell_type": "code",
   "execution_count": 49,
   "metadata": {},
   "outputs": [],
   "source": [
    "dust2_links = pd.read_csv(r'demo\\links\\de_dust2_links.csv')"
   ]
  },
  {
   "cell_type": "code",
   "execution_count": 55,
   "metadata": {},
   "outputs": [
    {
     "name": "stdout",
     "output_type": "stream",
     "text": [
      "100\n"
     ]
    }
   ],
   "source": [
    "print(dust2_links.match_links.nunique())"
   ]
  },
  {
   "cell_type": "code",
   "execution_count": 4,
   "metadata": {},
   "outputs": [
    {
     "name": "stdout",
     "output_type": "stream",
     "text": [
      "Failed to download demo\\87784: 403 Client Error: Forbidden for url: https://r2-demos.hltv.org/demos/105252/iem-dallas-2024-virtuspro-vs-big-bo3-iNJygOnxyHMLcZ0aB_CRym.rar\n"
     ]
    }
   ],
   "source": [
    "import requests\n",
    "import os\n",
    "import pandas as pd\n",
    "\n",
    "sample_url_item = \"/download/demo/87784\"\n",
    "\n",
    "base_url = \"https://hltv.org\"\n",
    "\n",
    "headers = {\n",
    "    'User-Agent': 'Mozilla/5.0 (Windows NT 10.0; Win64; x64) AppleWebKit/537.36 (KHTML, like Gecko) Chrome/58.0.3029.110 Safari/537.36'\n",
    "}\n",
    "\n",
    "url = base_url+sample_url_item\n",
    "\n",
    "def download_file(url, save_path):\n",
    "    try:\n",
    "        response = requests.get(url, headers=headers, stream=True)\n",
    "        response.raise_for_status()  # Check for errors\n",
    "\n",
    "        with open(save_path, 'wb') as f:\n",
    "            for chunk in response.iter_content(chunk_size=8192):\n",
    "                if chunk:  # filter out keep-alive new chunks\n",
    "                    f.write(chunk)\n",
    "        return f\"{save_path} downloaded successfully.\"\n",
    "    except requests.RequestException as e:\n",
    "        return f\"Failed to download {save_path}: {str(e)}\"\n",
    "\n",
    "def download_files_from_links(urls, save_dir):\n",
    "    if not os.path.exists(save_dir):\n",
    "        os.makedirs(save_dir)\n",
    "\n",
    "    results = []\n",
    "    for url in urls:\n",
    "        file_name = url.split('/')[-1]  # Assumes the last part of the URL is the file name\n",
    "        save_path = os.path.join(save_dir, file_name)\n",
    "        result = download_file(url, save_path)\n",
    "        results.append(result)\n",
    "\n",
    "    return results\n",
    "\n",
    "# Example usage\n",
    "urls = [\n",
    "    url\n",
    "]\n",
    "save_directory = \"demo\"  # Directory to save the downloaded files\n",
    "\n",
    "download_results = download_files_from_links(urls, save_directory)\n",
    "for result in download_results:\n",
    "    print(result)"
   ]
  },
  {
   "cell_type": "code",
   "execution_count": 1,
   "metadata": {},
   "outputs": [],
   "source": [
    "from selenium import webdriver\n",
    "import time\n",
    "\n",
    "def download_with_selenium(url):\n",
    "    options = webdriver.ChromeOptions()\n",
    "    options.add_experimental_option('prefs', {\n",
    "        \"download.default_directory\": r\"X:\\code\\CSGO_AI\\demo_analysis\\demo\",  # Change this to your actual download folder\n",
    "        \"download.prompt_for_download\": False,\n",
    "        \"download.directory_upgrade\": True,\n",
    "        \"safebrowsing.enabled\": True\n",
    "    })\n",
    "    driver = webdriver.Chrome(options=options)\n",
    "    driver.get(url)\n",
    "    time.sleep(5)  # Wait for any scripts to run and download button to become clickable\n",
    "    # If there's a specific button to click to start the download, simulate that click\n",
    "    # Example: driver.find_element_by_id('download-button-id').click()\n",
    "    time.sleep(20)  # Wait enough time for the download to complete\n",
    "    driver.quit()\n",
    "\n",
    "# Example usage\n",
    "download_url = \"https://hltv.org/download/demo/87784\"\n",
    "# download_url = 'https://r2-demos.hltv.org/demos/105252/iem-dallas-2024-virtuspro-vs-big-bo3-iNJygOnxyHMLcZ0aB_CRym.rar'\n",
    "download_with_selenium(download_url)\n"
   ]
  },
  {
   "cell_type": "code",
   "execution_count": 1,
   "metadata": {},
   "outputs": [
    {
     "name": "stdout",
     "output_type": "stream",
     "text": [
      "An error occurred while extracting files: patool not found! Please install patool!\n"
     ]
    }
   ],
   "source": [
    "from pyunpack import Archive\n",
    "import os\n",
    "\n",
    "def extract_rar(file_path, extract_to):\n",
    "    if not os.path.exists(extract_to):\n",
    "        os.makedirs(extract_to)\n",
    "    try:\n",
    "        Archive(file_path).extractall(extract_to)\n",
    "        print(f\"Files extracted successfully to {extract_to}\")\n",
    "    except Exception as e:\n",
    "        print(f\"An error occurred while extracting files: {e}\")\n",
    "\n",
    "# Example usage\n",
    "rar_file_path = r'X:\\code\\CSGO_AI\\demo_analysis\\demo\\demos_rar\\de_dust2\\betboom-dacha-belgrade-2024-heroic-vs-mibr-bo3-0yMXVWNlUA3AGShijb94ae.rar'  # Change to the path of your .rar file\n",
    "destination_folder = r'X:\\code\\CSGO_AI\\demo_analysis\\demo'  # Change to your desired extraction folder\n",
    "\n",
    "extract_rar(rar_file_path, destination_folder)\n"
   ]
  },
  {
   "cell_type": "code",
   "execution_count": 3,
   "metadata": {},
   "outputs": [
    {
     "name": "stderr",
     "output_type": "stream",
     "text": [
      "INFO patool: Extracting X:\\code\\CSGO_AI\\demo_analysis\\demo\\demos_rar\\de_dust2\\betboom-dacha-belgrade-2024-heroic-vs-mibr-bo3-0yMXVWNlUA3AGShijb94ae.rar ...\n",
      "INFO patool: running \"C:\\Program Files\\7-Zip\\7z.EXE\" x -oX:\\code\\CSGO_AI\\demo_analysis\\demo\\01 -- X:\\code\\CSGO_AI\\demo_analysis\\demo\\demos_rar\\de_dust2\\betboom-dacha-belgrade-2024-heroic-vs-mibr-bo3-0yMXVWNlUA3AGShijb94ae.rar\n",
      "INFO patool:     with input=\n",
      "INFO patool: ... X:\\code\\CSGO_AI\\demo_analysis\\demo\\demos_rar\\de_dust2\\betboom-dacha-belgrade-2024-heroic-vs-mibr-bo3-0yMXVWNlUA3AGShijb94ae.rar extracted to `X:\\code\\CSGO_AI\\demo_analysis\\demo\\01'.\n"
     ]
    },
    {
     "name": "stdout",
     "output_type": "stream",
     "text": [
      "Files extracted successfully to X:\\code\\CSGO_AI\\demo_analysis\\demo\\01\n"
     ]
    }
   ],
   "source": [
    "import patoolib\n",
    "import os\n",
    "\n",
    "def extract_rar(file_path, extract_to):\n",
    "    if not os.path.exists(extract_to):\n",
    "        os.makedirs(extract_to)\n",
    "    try:\n",
    "        patoolib.extract_archive(file_path, outdir=extract_to)\n",
    "        print(f\"Files extracted successfully to {extract_to}\")\n",
    "    except Exception as e:\n",
    "        print(f\"An error occurred while extracting files: {e}\")\n",
    "\n",
    "rar_file_path = r'X:\\code\\CSGO_AI\\demo_analysis\\demo\\demos_rar\\de_dust2\\betboom-dacha-belgrade-2024-heroic-vs-mibr-bo3-0yMXVWNlUA3AGShijb94ae.rar'  # Change to the path of your .rar file\n",
    "destination_folder = r'X:\\code\\CSGO_AI\\demo_analysis\\demo\\01'  # Change to your desired extraction folder\n",
    "\n",
    "extract_rar(rar_file_path, destination_folder)"
   ]
  },
  {
   "cell_type": "code",
   "execution_count": 4,
   "metadata": {},
   "outputs": [
    {
     "name": "stdout",
     "output_type": "stream",
     "text": [
      "Deleted: X:\\code\\CSGO_AI\\demo_analysis\\demo\\demos_extracted\\de_dust2\\3dmax-vs-mouz-nxt-m1-vertigo.dem\n",
      "Deleted: X:\\code\\CSGO_AI\\demo_analysis\\demo\\demos_extracted\\de_dust2\\3dmax-vs-mouz-nxt-m2-nuke.dem\n",
      "Deleted: X:\\code\\CSGO_AI\\demo_analysis\\demo\\demos_extracted\\de_dust2\\9z-vs-fluxo-m1-mirage.dem\n",
      "Deleted: X:\\code\\CSGO_AI\\demo_analysis\\demo\\demos_extracted\\de_dust2\\9z-vs-fluxo-m2-nuke.dem\n",
      "Deleted: X:\\code\\CSGO_AI\\demo_analysis\\demo\\demos_extracted\\de_dust2\\9z-vs-galorys-m1-inferno.dem\n",
      "Deleted: X:\\code\\CSGO_AI\\demo_analysis\\demo\\demos_extracted\\de_dust2\\9z-vs-oddik-m1-anubis.dem\n",
      "Deleted: X:\\code\\CSGO_AI\\demo_analysis\\demo\\demos_extracted\\de_dust2\\9z-vs-oddik-m3-nuke.dem\n",
      "Deleted: X:\\code\\CSGO_AI\\demo_analysis\\demo\\demos_extracted\\de_dust2\\astralis-vs-big-m2-nuke.dem\n",
      "Deleted: X:\\code\\CSGO_AI\\demo_analysis\\demo\\demos_extracted\\de_dust2\\betboom-vs-dms-m2-ancient.dem\n",
      "Deleted: X:\\code\\CSGO_AI\\demo_analysis\\demo\\demos_extracted\\de_dust2\\brazylijski-luz-vs-gl-academy-m1-anubis.dem\n",
      "Deleted: X:\\code\\CSGO_AI\\demo_analysis\\demo\\demos_extracted\\de_dust2\\brazylijski-luz-vs-gl-academy-m2-vertigo.dem\n",
      "Deleted: X:\\code\\CSGO_AI\\demo_analysis\\demo\\demos_extracted\\de_dust2\\bullpeek-vs-buhawi-m1-ancient.dem\n",
      "Deleted: X:\\code\\CSGO_AI\\demo_analysis\\demo\\demos_extracted\\de_dust2\\case-vs-hype-m1-vertigo.dem\n",
      "Deleted: X:\\code\\CSGO_AI\\demo_analysis\\demo\\demos_extracted\\de_dust2\\case-vs-hype-m2-nuke.dem\n",
      "Deleted: X:\\code\\CSGO_AI\\demo_analysis\\demo\\demos_extracted\\de_dust2\\cybershoke-vs-vp-prodigy-m2-ancient.dem\n",
      "Deleted: X:\\code\\CSGO_AI\\demo_analysis\\demo\\demos_extracted\\de_dust2\\dms-vs-heimo-m1-ancient.dem\n",
      "Deleted: X:\\code\\CSGO_AI\\demo_analysis\\demo\\demos_extracted\\de_dust2\\dms-vs-heimo-m2-inferno.dem\n",
      "Deleted: X:\\code\\CSGO_AI\\demo_analysis\\demo\\demos_extracted\\de_dust2\\dms-vs-vp-prodigy-m2-anubis-p1.dem\n",
      "Deleted: X:\\code\\CSGO_AI\\demo_analysis\\demo\\demos_extracted\\de_dust2\\dms-vs-vp-prodigy-m2-anubis-p2.dem\n",
      "Deleted: X:\\code\\CSGO_AI\\demo_analysis\\demo\\demos_extracted\\de_dust2\\ecf-vs-ination-m2-mirage.dem\n",
      "Deleted: X:\\code\\CSGO_AI\\demo_analysis\\demo\\demos_extracted\\de_dust2\\ecf-vs-ination-m3-inferno.dem\n",
      "Deleted: X:\\code\\CSGO_AI\\demo_analysis\\demo\\demos_extracted\\de_dust2\\ecf-vs-preasy-m2-ancient.dem\n",
      "Deleted: X:\\code\\CSGO_AI\\demo_analysis\\demo\\demos_extracted\\de_dust2\\ecf-vs-preasy-m3-ancient.dem\n",
      "Deleted: X:\\code\\CSGO_AI\\demo_analysis\\demo\\demos_extracted\\de_dust2\\eclot-vs-johnny-speeds-m1-anubis.dem\n",
      "Deleted: X:\\code\\CSGO_AI\\demo_analysis\\demo\\demos_extracted\\de_dust2\\eclot-vs-johnny-speeds-m2-mirage.dem\n",
      "Deleted: X:\\code\\CSGO_AI\\demo_analysis\\demo\\demos_extracted\\de_dust2\\ence-vs-fnatic-m1-anubis.dem\n",
      "Deleted: X:\\code\\CSGO_AI\\demo_analysis\\demo\\demos_extracted\\de_dust2\\ence-vs-fnatic-m2-ancient.dem\n",
      "Deleted: X:\\code\\CSGO_AI\\demo_analysis\\demo\\demos_extracted\\de_dust2\\ence-vs-gaimin-gladiators-m1-vertigo.dem\n",
      "Deleted: X:\\code\\CSGO_AI\\demo_analysis\\demo\\demos_extracted\\de_dust2\\eternal-fire-vs-betboom-m1-mirage.dem\n",
      "Deleted: X:\\code\\CSGO_AI\\demo_analysis\\demo\\demos_extracted\\de_dust2\\eternal-fire-vs-betboom-m2-vertigo.dem\n",
      "Deleted: X:\\code\\CSGO_AI\\demo_analysis\\demo\\demos_extracted\\de_dust2\\ex-guild-eagles-vs-illyrians-m2-anubis.dem\n",
      "Deleted: X:\\code\\CSGO_AI\\demo_analysis\\demo\\demos_extracted\\de_dust2\\eyeballers-vs-permitta-m1-mirage.dem\n",
      "Deleted: X:\\code\\CSGO_AI\\demo_analysis\\demo\\demos_extracted\\de_dust2\\eyeballers-vs-permitta-m2-vertigo-p1.dem\n",
      "Deleted: X:\\code\\CSGO_AI\\demo_analysis\\demo\\demos_extracted\\de_dust2\\eyeballers-vs-permitta-m2-vertigo-p2.dem\n",
      "Deleted: X:\\code\\CSGO_AI\\demo_analysis\\demo\\demos_extracted\\de_dust2\\falcons-vs-monte-m2-nuke.dem\n",
      "Deleted: X:\\code\\CSGO_AI\\demo_analysis\\demo\\demos_extracted\\de_dust2\\fluxo-vs-case-m1-inferno.dem\n",
      "Deleted: X:\\code\\CSGO_AI\\demo_analysis\\demo\\demos_extracted\\de_dust2\\fluxo-vs-hype-m2-mirage.dem\n",
      "Deleted: X:\\code\\CSGO_AI\\demo_analysis\\demo\\demos_extracted\\de_dust2\\fluxo-vs-hype-m3-nuke.dem\n",
      "Deleted: X:\\code\\CSGO_AI\\demo_analysis\\demo\\demos_extracted\\de_dust2\\fluxo-vs-oddik-m1-vertigo.dem\n",
      "Deleted: X:\\code\\CSGO_AI\\demo_analysis\\demo\\demos_extracted\\de_dust2\\flyquest-red-vs-tsm-shimmer-m2-anubis.dem\n",
      "Deleted: X:\\code\\CSGO_AI\\demo_analysis\\demo\\demos_extracted\\de_dust2\\flyquest-red-vs-tsm-shimmer-m3-vertigo.dem\n",
      "Deleted: X:\\code\\CSGO_AI\\demo_analysis\\demo\\demos_extracted\\de_dust2\\furia-vs-passion-ua-m2-inferno.dem\n",
      "Deleted: X:\\code\\CSGO_AI\\demo_analysis\\demo\\demos_extracted\\de_dust2\\g2-vs-vitality-m2-anubis.dem\n",
      "Deleted: X:\\code\\CSGO_AI\\demo_analysis\\demo\\demos_extracted\\de_dust2\\gaimin-gladiators-vs-gamerlegion-m1-vertigo.dem\n",
      "Deleted: X:\\code\\CSGO_AI\\demo_analysis\\demo\\demos_extracted\\de_dust2\\gaimin-gladiators-vs-gamerlegion-m3-nuke.dem\n",
      "Deleted: X:\\code\\CSGO_AI\\demo_analysis\\demo\\demos_extracted\\de_dust2\\galorys-vs-9z-m1-inferno.dem\n",
      "Deleted: X:\\code\\CSGO_AI\\demo_analysis\\demo\\demos_extracted\\de_dust2\\galorys-vs-9z-m2-nuke.dem\n",
      "Deleted: X:\\code\\CSGO_AI\\demo_analysis\\demo\\demos_extracted\\de_dust2\\genone-vs-over30-m2-nuke.dem\n",
      "Deleted: X:\\code\\CSGO_AI\\demo_analysis\\demo\\demos_extracted\\de_dust2\\guild-eagles-vs-ination-m1-inferno.dem\n",
      "Deleted: X:\\code\\CSGO_AI\\demo_analysis\\demo\\demos_extracted\\de_dust2\\guild-eagles-vs-ination-m2-mirage.dem\n",
      "Deleted: X:\\code\\CSGO_AI\\demo_analysis\\demo\\demos_extracted\\de_dust2\\gun5-vs-777-m2-ancient.dem\n",
      "Deleted: X:\\code\\CSGO_AI\\demo_analysis\\demo\\demos_extracted\\de_dust2\\heroic-vs-mibr-m1-anubis.dem\n",
      "Deleted: X:\\code\\CSGO_AI\\demo_analysis\\demo\\demos_extracted\\de_dust2\\heroic-vs-mibr-m1-vertigo.dem\n",
      "Deleted: X:\\code\\CSGO_AI\\demo_analysis\\demo\\demos_extracted\\de_dust2\\heroic-vs-mibr-m2-ancient.dem\n",
      "Deleted: X:\\code\\CSGO_AI\\demo_analysis\\demo\\demos_extracted\\de_dust2\\heroic-vs-mibr-m3-ancient.dem\n",
      "Deleted: X:\\code\\CSGO_AI\\demo_analysis\\demo\\demos_extracted\\de_dust2\\imperial-vs-9z-m2-mirage.dem\n",
      "Deleted: X:\\code\\CSGO_AI\\demo_analysis\\demo\\demos_extracted\\de_dust2\\imperial-vs-9z-m3-anubis.dem\n",
      "Deleted: X:\\code\\CSGO_AI\\demo_analysis\\demo\\demos_extracted\\de_dust2\\liquid-vs-9z-m1-nuke.dem\n",
      "Deleted: X:\\code\\CSGO_AI\\demo_analysis\\demo\\demos_extracted\\de_dust2\\liquid-vs-9z-m2-anubis.dem\n",
      "Deleted: X:\\code\\CSGO_AI\\demo_analysis\\demo\\demos_extracted\\de_dust2\\liquid-vs-astralis-m1-inferno.dem\n",
      "Deleted: X:\\code\\CSGO_AI\\demo_analysis\\demo\\demos_extracted\\de_dust2\\liquid-vs-astralis-m2-nuke.dem\n",
      "Deleted: X:\\code\\CSGO_AI\\demo_analysis\\demo\\demos_extracted\\de_dust2\\m80-vs-nouns-m1-inferno.dem\n",
      "Deleted: X:\\code\\CSGO_AI\\demo_analysis\\demo\\demos_extracted\\de_dust2\\m80-vs-nouns-m2-ancient.dem\n",
      "Deleted: X:\\code\\CSGO_AI\\demo_analysis\\demo\\demos_extracted\\de_dust2\\m80-vs-wildcard-m1-ancient.dem\n",
      "Deleted: X:\\code\\CSGO_AI\\demo_analysis\\demo\\demos_extracted\\de_dust2\\metizport-vs-space-m2-vertigo.dem\n",
      "Deleted: X:\\code\\CSGO_AI\\demo_analysis\\demo\\demos_extracted\\de_dust2\\metizport-vs-space-m3-mirage.dem\n",
      "Deleted: X:\\code\\CSGO_AI\\demo_analysis\\demo\\demos_extracted\\de_dust2\\monte-vs-dms-m1-vertigo.dem\n",
      "Deleted: X:\\code\\CSGO_AI\\demo_analysis\\demo\\demos_extracted\\de_dust2\\monte-vs-dms-m3-mirage.dem\n",
      "Deleted: X:\\code\\CSGO_AI\\demo_analysis\\demo\\demos_extracted\\de_dust2\\monte-vs-ecf-m2-mirage.dem\n",
      "Deleted: X:\\code\\CSGO_AI\\demo_analysis\\demo\\demos_extracted\\de_dust2\\monte-vs-ecf-m3-anubis.dem\n",
      "Deleted: X:\\code\\CSGO_AI\\demo_analysis\\demo\\demos_extracted\\de_dust2\\mouz-nxt-vs-9-pandas-m1-nuke.dem\n",
      "Deleted: X:\\code\\CSGO_AI\\demo_analysis\\demo\\demos_extracted\\de_dust2\\mouz-nxt-vs-b8-m2-nuke.dem\n",
      "Deleted: X:\\code\\CSGO_AI\\demo_analysis\\demo\\demos_extracted\\de_dust2\\mouz-nxt-vs-b8-m3-ancient.dem\n",
      "Deleted: X:\\code\\CSGO_AI\\demo_analysis\\demo\\demos_extracted\\de_dust2\\mouz-nxt-vs-dms-m2-vertigo.dem\n",
      "Deleted: X:\\code\\CSGO_AI\\demo_analysis\\demo\\demos_extracted\\de_dust2\\mouz-nxt-vs-dms-m3-inferno-incomplete.dem\n",
      "Deleted: X:\\code\\CSGO_AI\\demo_analysis\\demo\\demos_extracted\\de_dust2\\mouz-nxt-vs-nexus-m1-nuke.dem\n",
      "Deleted: X:\\code\\CSGO_AI\\demo_analysis\\demo\\demos_extracted\\de_dust2\\mouz-nxt-vs-rhyno-m1-nuke.dem\n",
      "Deleted: X:\\code\\CSGO_AI\\demo_analysis\\demo\\demos_extracted\\de_dust2\\mouz-nxt-vs-rhyno-m3-inferno.dem\n",
      "Deleted: X:\\code\\CSGO_AI\\demo_analysis\\demo\\demos_extracted\\de_dust2\\mouz-nxt-vs-space-m1-vertigo.dem\n",
      "Deleted: X:\\code\\CSGO_AI\\demo_analysis\\demo\\demos_extracted\\de_dust2\\mouz-vs-betboom-m2-vertigo.dem\n",
      "Deleted: X:\\code\\CSGO_AI\\demo_analysis\\demo\\demos_extracted\\de_dust2\\mouz-vs-heroic-m2-mirage.dem\n",
      "Deleted: X:\\code\\CSGO_AI\\demo_analysis\\demo\\demos_extracted\\de_dust2\\mouz-vs-virtus-pro-m2-vertigo.dem\n",
      "Deleted: X:\\code\\CSGO_AI\\demo_analysis\\demo\\demos_extracted\\de_dust2\\mouz-vs-virtus-pro-m3-mirage.dem\n",
      "Deleted: X:\\code\\CSGO_AI\\demo_analysis\\demo\\demos_extracted\\de_dust2\\nip-impact-vs-pigeons-m1-inferno.dem\n",
      "Deleted: X:\\code\\CSGO_AI\\demo_analysis\\demo\\demos_extracted\\de_dust2\\nom-vs-rare-atom-m2-vertigo.dem\n",
      "Deleted: X:\\code\\CSGO_AI\\demo_analysis\\demo\\demos_extracted\\de_dust2\\oddik-vs-case-m1-ancient.dem\n",
      "Deleted: X:\\code\\CSGO_AI\\demo_analysis\\demo\\demos_extracted\\de_dust2\\oddik-vs-case-m2-vertigo.dem\n",
      "Deleted: X:\\code\\CSGO_AI\\demo_analysis\\demo\\demos_extracted\\de_dust2\\oddik-vs-intense-m1-ancient.dem\n",
      "Deleted: X:\\code\\CSGO_AI\\demo_analysis\\demo\\demos_extracted\\de_dust2\\oddik-vs-intense-m2-nuke.dem\n",
      "Deleted: X:\\code\\CSGO_AI\\demo_analysis\\demo\\demos_extracted\\de_dust2\\over30-vs-adepts-m1-vertigo.dem\n",
      "Deleted: X:\\code\\CSGO_AI\\demo_analysis\\demo\\demos_extracted\\de_dust2\\over30-vs-adepts-m3-inferno.dem\n",
      "Deleted: X:\\code\\CSGO_AI\\demo_analysis\\demo\\demos_extracted\\de_dust2\\pain-vs-9z-m2-anubis.dem\n",
      "Deleted: X:\\code\\CSGO_AI\\demo_analysis\\demo\\demos_extracted\\de_dust2\\pain-vs-9z-m3-nuke.dem\n",
      "Deleted: X:\\code\\CSGO_AI\\demo_analysis\\demo\\demos_extracted\\de_dust2\\pain-vs-og-m1-vertigo.dem\n",
      "Deleted: X:\\code\\CSGO_AI\\demo_analysis\\demo\\demos_extracted\\de_dust2\\pain-vs-og-m2-mirage.dem\n",
      "Deleted: X:\\code\\CSGO_AI\\demo_analysis\\demo\\demos_extracted\\de_dust2\\permitta-vs-1win-m2-inferno.dem\n",
      "Deleted: X:\\code\\CSGO_AI\\demo_analysis\\demo\\demos_extracted\\de_dust2\\permitta-vs-eclot-m1-mirage.dem\n",
      "Deleted: X:\\code\\CSGO_AI\\demo_analysis\\demo\\demos_extracted\\de_dust2\\permitta-vs-eclot-m2-anubis.dem\n",
      "Deleted: X:\\code\\CSGO_AI\\demo_analysis\\demo\\demos_extracted\\de_dust2\\permitta-vs-gun5-m2-nuke.dem\n",
      "Deleted: X:\\code\\CSGO_AI\\demo_analysis\\demo\\demos_extracted\\de_dust2\\permitta-vs-vp-prodigy-m1-vertigo.dem\n",
      "Deleted: X:\\code\\CSGO_AI\\demo_analysis\\demo\\demos_extracted\\de_dust2\\permitta-vs-vp-prodigy-m2-mirage.dem\n",
      "Deleted: X:\\code\\CSGO_AI\\demo_analysis\\demo\\demos_extracted\\de_dust2\\rebels-vs-ecf-m1-ancient.dem\n",
      "Deleted: X:\\code\\CSGO_AI\\demo_analysis\\demo\\demos_extracted\\de_dust2\\rebels-vs-gaimin-gladiators-m2-vertigo.dem\n",
      "Deleted: X:\\code\\CSGO_AI\\demo_analysis\\demo\\demos_extracted\\de_dust2\\rhyno-vs-al-qatrao-m1-inferno.dem\n",
      "Deleted: X:\\code\\CSGO_AI\\demo_analysis\\demo\\demos_extracted\\de_dust2\\rhyno-vs-al-qatrao-m2-vertigo.dem\n",
      "Deleted: X:\\code\\CSGO_AI\\demo_analysis\\demo\\demos_extracted\\de_dust2\\sampi-vs-dms-m2-anubis.dem\n",
      "Deleted: X:\\code\\CSGO_AI\\demo_analysis\\demo\\demos_extracted\\de_dust2\\sampi-vs-dms-m3-inferno.dem\n",
      "Deleted: X:\\code\\CSGO_AI\\demo_analysis\\demo\\demos_extracted\\de_dust2\\sampi-vs-mouz-nxt-m1-anubis.dem\n",
      "Deleted: X:\\code\\CSGO_AI\\demo_analysis\\demo\\demos_extracted\\de_dust2\\sampi-vs-veni-vidi-vici-m2-anubis.dem\n",
      "Deleted: X:\\code\\CSGO_AI\\demo_analysis\\demo\\demos_extracted\\de_dust2\\sampi-vs-veni-vidi-vici-m3-mirage.dem\n",
      "Deleted: X:\\code\\CSGO_AI\\demo_analysis\\demo\\demos_extracted\\de_dust2\\sangal-vs-dms-m2-mirage.dem\n",
      "Deleted: X:\\code\\CSGO_AI\\demo_analysis\\demo\\demos_extracted\\de_dust2\\sashi-vs-passion-ua-m2-vertigo.dem\n",
      "Deleted: X:\\code\\CSGO_AI\\demo_analysis\\demo\\demos_extracted\\de_dust2\\sashi-vs-passion-ua-m3-mirage.dem\n",
      "Deleted: X:\\code\\CSGO_AI\\demo_analysis\\demo\\demos_extracted\\de_dust2\\saw-vs-aurora-m1-nuke.dem\n",
      "Deleted: X:\\code\\CSGO_AI\\demo_analysis\\demo\\demos_extracted\\de_dust2\\saw-vs-aurora-m3-ancient.dem\n",
      "Deleted: X:\\code\\CSGO_AI\\demo_analysis\\demo\\demos_extracted\\de_dust2\\sinners-vs-alternate-attax-m1-inferno.dem\n",
      "Deleted: X:\\code\\CSGO_AI\\demo_analysis\\demo\\demos_extracted\\de_dust2\\sinners-vs-alternate-attax-m3-ancient.dem\n",
      "Deleted: X:\\code\\CSGO_AI\\demo_analysis\\demo\\demos_extracted\\de_dust2\\sinners-vs-brazylijski-luz-m1-nuke.dem\n",
      "Deleted: X:\\code\\CSGO_AI\\demo_analysis\\demo\\demos_extracted\\de_dust2\\sinners-vs-gun5-m1-inferno.dem\n",
      "Deleted: X:\\code\\CSGO_AI\\demo_analysis\\demo\\demos_extracted\\de_dust2\\sinners-vs-gun5-m2-mirage.dem\n",
      "Deleted: X:\\code\\CSGO_AI\\demo_analysis\\demo\\demos_extracted\\de_dust2\\sinners-vs-passion-m1-ancient.dem\n",
      "Deleted: X:\\code\\CSGO_AI\\demo_analysis\\demo\\demos_extracted\\de_dust2\\sinners-vs-unity-m1-ancient.dem\n",
      "Deleted: X:\\code\\CSGO_AI\\demo_analysis\\demo\\demos_extracted\\de_dust2\\sinners-vs-unity-m3-anubis.dem\n",
      "Deleted: X:\\code\\CSGO_AI\\demo_analysis\\demo\\demos_extracted\\de_dust2\\sinners-vs-vp-prodigy-m1-anubis.dem\n",
      "Deleted: X:\\code\\CSGO_AI\\demo_analysis\\demo\\demos_extracted\\de_dust2\\solid-vs-oddik-m1-anubis.dem\n",
      "Deleted: X:\\code\\CSGO_AI\\demo_analysis\\demo\\demos_extracted\\de_dust2\\solid-vs-oddik-m3-ancient.dem\n",
      "Deleted: X:\\code\\CSGO_AI\\demo_analysis\\demo\\demos_extracted\\de_dust2\\space-vs-9-pandas-m2-anubis.dem\n",
      "Deleted: X:\\code\\CSGO_AI\\demo_analysis\\demo\\demos_extracted\\de_dust2\\space-vs-dms-m2-vertigo.dem\n",
      "Deleted: X:\\code\\CSGO_AI\\demo_analysis\\demo\\demos_extracted\\de_dust2\\space-vs-rounds-m1-dust2-p1.dem\n",
      "Deleted: X:\\code\\CSGO_AI\\demo_analysis\\demo\\demos_extracted\\de_dust2\\space-vs-rounds-m1-dust2-p2.dem\n",
      "Deleted: X:\\code\\CSGO_AI\\demo_analysis\\demo\\demos_extracted\\de_dust2\\space-vs-rounds-m2-ancient.dem\n",
      "Deleted: X:\\code\\CSGO_AI\\demo_analysis\\demo\\demos_extracted\\de_dust2\\space-vs-verdant-m1-nuke.dem\n",
      "Deleted: X:\\code\\CSGO_AI\\demo_analysis\\demo\\demos_extracted\\de_dust2\\spirit-hu-vs-buhawi-m1-ancient.dem\n",
      "Deleted: X:\\code\\CSGO_AI\\demo_analysis\\demo\\demos_extracted\\de_dust2\\spirit-hu-vs-buhawi-m2-inferno.dem\n",
      "Deleted: X:\\code\\CSGO_AI\\demo_analysis\\demo\\demos_extracted\\de_dust2\\spirit-hu-vs-buhawi-m3-mirage.dem\n",
      "Deleted: X:\\code\\CSGO_AI\\demo_analysis\\demo\\demos_extracted\\de_dust2\\spirit-hu-vs-buhawi-m3-vertigo.dem\n",
      "Deleted: X:\\code\\CSGO_AI\\demo_analysis\\demo\\demos_extracted\\de_dust2\\spirit-vs-aurora-m2-ancient.dem\n",
      "Deleted: X:\\code\\CSGO_AI\\demo_analysis\\demo\\demos_extracted\\de_dust2\\take-flyte-vs-nrg-m2-vertigo.dem\n",
      "Deleted: X:\\code\\CSGO_AI\\demo_analysis\\demo\\demos_extracted\\de_dust2\\themongolz-vs-gaimin-gladiators-m1-ancient.dem\n",
      "Deleted: X:\\code\\CSGO_AI\\demo_analysis\\demo\\demos_extracted\\de_dust2\\virtus-pro-vs-big-m1-inferno.dem\n",
      "Deleted: X:\\code\\CSGO_AI\\demo_analysis\\demo\\demos_extracted\\de_dust2\\virtus-pro-vs-big-m2-ancient-p1.dem\n",
      "Deleted: X:\\code\\CSGO_AI\\demo_analysis\\demo\\demos_extracted\\de_dust2\\virtus-pro-vs-big-m2-ancient-p2.dem\n",
      "Deleted: X:\\code\\CSGO_AI\\demo_analysis\\demo\\demos_extracted\\de_dust2\\w7m-vs-hype-m2-ancient.dem\n",
      "Deleted: X:\\code\\CSGO_AI\\demo_analysis\\demo\\demos_extracted\\de_dust2\\w7m-vs-hype-m3-nuke.dem\n",
      "Deleted: X:\\code\\CSGO_AI\\demo_analysis\\demo\\demos_extracted\\de_dust2\\w7m-vs-yawara-m2-mirage.dem\n",
      "Deleted: X:\\code\\CSGO_AI\\demo_analysis\\demo\\demos_extracted\\de_dust2\\wizard-vs-metizport-x-m2-anubis.dem\n",
      "Deleted: X:\\code\\CSGO_AI\\demo_analysis\\demo\\demos_extracted\\de_dust2\\wizard-vs-metizport-x-m3-ancient.dem\n",
      "Deleted: X:\\code\\CSGO_AI\\demo_analysis\\demo\\demos_extracted\\de_dust2\\wopa-vs-secret-m1-anubis.dem\n",
      "Deleted: X:\\code\\CSGO_AI\\demo_analysis\\demo\\demos_extracted\\de_dust2\\yawara-vs-case-m1-nuke.dem\n",
      "Deleted: X:\\code\\CSGO_AI\\demo_analysis\\demo\\demos_extracted\\de_dust2\\zero-tenacity-vs-illyrians-m2-anubis.dem\n",
      "Deleted: X:\\code\\CSGO_AI\\demo_analysis\\demo\\demos_extracted\\de_dust2\\zero-tenacity-vs-illyrians-m3-inferno.dem\n",
      "Deleted: X:\\code\\CSGO_AI\\demo_analysis\\demo\\demos_extracted\\de_dust2\\zero-tenacity-vs-rhyno-m2-anubis.dem\n"
     ]
    }
   ],
   "source": [
    "import os\n",
    "import glob\n",
    "\n",
    "def delete_unwanted_files(directory, suffix):\n",
    "    # Create a full path pattern to match all files in the directory\n",
    "    path_pattern = os.path.join(directory, '*')\n",
    "    \n",
    "    # List all files in the directory\n",
    "    files = glob.glob(path_pattern)\n",
    "    \n",
    "    # Filter and delete files that do not end with the specified suffix\n",
    "    for file in files:\n",
    "        if not file.endswith(suffix):\n",
    "            os.remove(file)\n",
    "            print(f\"Deleted: {file}\")\n",
    "\n",
    "# Example usage\n",
    "directory_path = r'X:\\code\\CSGO_AI\\demo_analysis\\demo\\demos_extracted\\de_dust2'  # Replace with the path to your directory\n",
    "file_suffix = 'dust2.dem'  # Files ending with this will NOT be deleted\n",
    "\n",
    "delete_unwanted_files(directory_path, file_suffix)"
   ]
  },
  {
   "cell_type": "code",
   "execution_count": null,
   "metadata": {},
   "outputs": [],
   "source": []
  }
 ],
 "metadata": {
  "kernelspec": {
   "display_name": "Python 3",
   "language": "python",
   "name": "python3"
  },
  "language_info": {
   "codemirror_mode": {
    "name": "ipython",
    "version": 3
   },
   "file_extension": ".py",
   "mimetype": "text/x-python",
   "name": "python",
   "nbconvert_exporter": "python",
   "pygments_lexer": "ipython3",
   "version": "3.11.8"
  }
 },
 "nbformat": 4,
 "nbformat_minor": 2
}
