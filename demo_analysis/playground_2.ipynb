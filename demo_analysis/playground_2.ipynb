{
 "cells": [
  {
   "cell_type": "code",
   "execution_count": 6,
   "metadata": {},
   "outputs": [],
   "source": [
    "from data_preperator import Processor\n",
    "from demoparser2 import DemoParser\n",
    "import pickle\n",
    "import os\n",
    "\n",
    "params = dict(\n",
    "    columns = [\"pitch\", \"yaw\", \"X\", \"Y\", \"Z\", \"shots_fired\", \"team_num\", 'active_weapon'],\n",
    "    columns_to_pick = [\"health\", \"is_alive\", \"armor\", \"has_helmet\"],\n",
    "    wanted_props = ['team_num', 'flash_duration', 'pitch', 'yaw', 'X', 'Y', 'Z', 'armor_value', 'active_weapon_name', 'flash_max_alpha', 'health', 'is_alive', 'has_helmet', 'move_type']\n",
    ")\n"
   ]
  },
  {
   "cell_type": "code",
   "execution_count": 18,
   "metadata": {},
   "outputs": [
    {
     "name": "stderr",
     "output_type": "stream",
     "text": [
      "100%|██████████| 30/30 [01:01<00:00,  2.06s/it]"
     ]
    },
    {
     "name": "stdout",
     "output_type": "stream",
     "text": [
      "{'FAMAS', 'P90', 'SSG 08', 'M4A4', 'Dual Berettas', 'knife_stiletto', 'knife_karambit', 'knife_butterfly', 'CZ75-Auto', 'knife_m9_bayonet', 'Tec-9', 'knife_canis', 'Desert Eagle', 'knife_falchion', 'AWP', 'knife_gypsy_jackknife', 'USP-S', 'MAC-10', 'knife_t', 'Zeus x27', 'XM1014', 'knife_kukri', None, 'knife', 'P2000', 'knife_flip', 'Galil AR', 'knife_outdoor', 'Glock-18', 'knife_push', 'SG 553', 'knife_ursus', 'Smoke Grenade', 'Decoy Grenade', 'AK-47', 'UMP-45', 'knife_skeleton', 'P250', 'Incendiary Grenade', 'Flashbang', 'Five-SeveN', 'M4A1-S', 'MAG-7', 'Nova', 'knife_tactical', 'Negev', 'C4', 'AUG', 'MP7', 'Molotov', 'knife_gut', 'knife_widowmaker', 'MP9', 'High Explosive Grenade', 'bayonet'}\n"
     ]
    },
    {
     "name": "stderr",
     "output_type": "stream",
     "text": [
      "\n"
     ]
    }
   ],
   "source": [
    "from tqdm import tqdm\n",
    "folder_name = r'demo\\demos_extracted\\de_dust2'\n",
    "files = os.listdir(folder_name)\n",
    "parsed = []\n",
    "weapons = []\n",
    "weapons_2 = []\n",
    "for file in tqdm(files[:30]):\n",
    "    file_name = os.path.join(folder_name, file)\n",
    "    parser = DemoParser(file_name)\n",
    "    df_ticks = parser.parse_ticks(wanted_props=params['wanted_props'])\n",
    "    weapon = df_ticks.active_weapon_name.unique().tolist()\n",
    "    weapons += weapon\n",
    "\n",
    "print(set(weapons))\n"
   ]
  },
  {
   "cell_type": "code",
   "execution_count": 26,
   "metadata": {},
   "outputs": [],
   "source": [
    "items = ['FAMAS', 'P90', 'SSG 08', 'M4A4', 'Dual Berettas', 'knife_stiletto', 'knife_karambit', 'knife_butterfly', 'CZ75-Auto', 'knife_m9_bayonet', 'Tec-9', 'knife_canis', 'Desert Eagle', 'knife_falchion', 'AWP', 'knife_gypsy_jackknife', 'USP-S', 'MAC-10', 'knife_t', 'Zeus x27', 'XM1014', 'knife_kukri', None, 'knife', 'P2000', 'knife_flip', 'Galil AR', 'knife_outdoor', 'Glock-18', 'knife_push', 'SG 553', 'knife_ursus', 'Smoke Grenade', 'Decoy Grenade', 'AK-47', 'UMP-45', 'knife_skeleton', 'P250', 'Incendiary Grenade', 'Flashbang', 'Five-SeveN', 'M4A1-S', 'MAG-7', 'Nova', 'knife_tactical', 'Negev', 'C4', 'AUG', 'MP7', 'Molotov', 'knife_gut', 'knife_widowmaker', 'MP9', 'High Explosive Grenade', 'bayonet']\n",
    "\n",
    "categories = set([categorize_item(item) for item in items])\n"
   ]
  },
  {
   "cell_type": "code",
   "execution_count": 28,
   "metadata": {},
   "outputs": [],
   "source": [
    "categories = list(categories)"
   ]
  },
  {
   "cell_type": "code",
   "execution_count": 29,
   "metadata": {},
   "outputs": [
    {
     "data": {
      "text/plain": [
       "['FAMAS',\n",
       " 'P90',\n",
       " 'SSG 08',\n",
       " 'M4A4',\n",
       " 'Tec-9',\n",
       " 'Desert Eagle',\n",
       " 'AWP',\n",
       " 'USP-S',\n",
       " 'MAC-10',\n",
       " 'Zeus x27',\n",
       " 'XM1014',\n",
       " 'knife',\n",
       " 'P2000',\n",
       " 'Galil AR',\n",
       " 'SG 553',\n",
       " 'MP9',\n",
       " 'Smoke Grenade',\n",
       " 'Decoy Grenade',\n",
       " 'AK-47',\n",
       " 'UMP-45',\n",
       " 'P250',\n",
       " 'Incendiary Grenade',\n",
       " 'Flashbang',\n",
       " 'Five-SeveN',\n",
       " 'High Explosive Grenade',\n",
       " '0',\n",
       " 'M4A1-S',\n",
       " 'MAG-7',\n",
       " 'Nova',\n",
       " 'Negev',\n",
       " 'C4',\n",
       " 'AUG',\n",
       " 'MP7',\n",
       " 'Molotov',\n",
       " 'CZ75-Auto',\n",
       " 'Glock-18',\n",
       " 'Dual Berettas']"
      ]
     },
     "execution_count": 29,
     "metadata": {},
     "output_type": "execute_result"
    }
   ],
   "source": [
    "categories"
   ]
  },
  {
   "cell_type": "code",
   "execution_count": null,
   "metadata": {},
   "outputs": [],
   "source": []
  }
 ],
 "metadata": {
  "kernelspec": {
   "display_name": "Python 3",
   "language": "python",
   "name": "python3"
  },
  "language_info": {
   "codemirror_mode": {
    "name": "ipython",
    "version": 3
   },
   "file_extension": ".py",
   "mimetype": "text/x-python",
   "name": "python",
   "nbconvert_exporter": "python",
   "pygments_lexer": "ipython3",
   "version": "3.11.8"
  }
 },
 "nbformat": 4,
 "nbformat_minor": 2
}
