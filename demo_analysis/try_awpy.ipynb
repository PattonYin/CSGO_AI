{
 "cells": [
  {
   "cell_type": "code",
   "execution_count": 2,
   "metadata": {},
   "outputs": [],
   "source": [
    "from data_preperator import Processor\n",
    "import pickle\n",
    "from plot_data import *\n",
    "\n",
    "params = dict(\n",
    "    demo_path = \"demo/match730_003673760416913162325_1520768583_129.dem\",\n",
    "    player_name = \"BERNARDO\",\n",
    "    columns = [\"pitch\", \"yaw\", \"X\", \"Y\", \"Z\", \"shots_fired\", \"team_num\"],\n",
    "    columns_to_pick = [\"health\", \"is_alive\", \"armor\", \"has_helmet\"],\n",
    "    columns_to_checkout = ['life_state', 'move_collide', 'move_type', 'next_attack_time', 'ducking', 'spotted', 'is_walking', 'is_defusing', 'flash_duration', 'is_strafing']\n",
    ")\n",
    "\n",
    "# processor = Processor(params[\"demo_path\"])\n",
    "# data = processor.get_round_data(props=params['columns'])\n",
    "# data = processor.get_round_data(props=params['columns_to_checkout'])\n"
   ]
  },
  {
   "cell_type": "code",
   "execution_count": 47,
   "metadata": {},
   "outputs": [],
   "source": [
    "import pandas as pd\n",
    "\n",
    "class Checkout_Columns:\n",
    "    def __init__(self, demo_path, props):\n",
    "        self.processor = Processor(demo_path)\n",
    "        self.data = self.processor.get_round_data(props=props)\n",
    "    \n",
    "    def know_column_data(self, column_name, plot=False):\n",
    "        round_1_data = self.data[self.data['round'] == 1]\n",
    "        player_names = self.data['name'].unique()\n",
    "        print(len(round_1_data))\n",
    "        for player in player_names:\n",
    "            round_1_data_player = round_1_data[round_1_data['name'] == player]\n",
    "            freq = round_1_data_player[column_name].value_counts()\n",
    "            \n",
    "            print(f\"player {player}, {len(round_1_data_player[round_1_data_player[column_name] == 2])}\")\n",
    "            if plot:\n",
    "                freq.plot(kind='bar')\n",
    "                plt.xlabel('Values')\n",
    "                plt.ylabel('Frequency')\n",
    "                plt.title(f'Frequency {column_name} for {player}')\n",
    "                plt.show()\n",
    "            # print(f\"player {player}, freq {freq}\")\n",
    "            \n",
    "            \n",
    "check_01 = Checkout_Columns(params['demo_path'], params['columns_to_checkout'])"
   ]
  },
  {
   "cell_type": "code",
   "execution_count": 54,
   "metadata": {},
   "outputs": [
    {
     "name": "stdout",
     "output_type": "stream",
     "text": [
      "46070\n",
      "player BERNARDO, 0\n",
      "player FordyCal, 1873\n",
      "player oodlenoodle, 351\n",
      "player Aerith, 1884\n",
      "player stevn, 1872\n",
      "player Bonks, 714\n",
      "player Dy14N, 897\n",
      "player APAULO, 1204\n",
      "player WeeTodd, 2445\n",
      "player Plasma, 0\n"
     ]
    }
   ],
   "source": [
    "check_01.know_column_data('life_state')"
   ]
  },
  {
   "cell_type": "code",
   "execution_count": 25,
   "metadata": {},
   "outputs": [],
   "source": [
    "from demoparser2 import DemoParser\n",
    "parser = DemoParser(params['demo_path'])"
   ]
  },
  {
   "cell_type": "code",
   "execution_count": 43,
   "metadata": {},
   "outputs": [
    {
     "name": "stdout",
     "output_type": "stream",
     "text": [
      "1 min 11.953125 seconds\n",
      "1 min 24.984375 seconds\n",
      "1 min 17.265625 seconds\n",
      "1 min 42.5625 seconds\n",
      "1 min 33.75 seconds\n",
      "1 min 11.578125 seconds\n",
      "1 min 42.265625 seconds\n",
      "1 min 21.8125 seconds\n",
      "0 min 52.15625 seconds\n",
      "1 min 14.609375 seconds\n",
      "1 min 17.90625 seconds\n",
      "1 min 20.234375 seconds\n",
      "1 min 13.828125 seconds\n",
      "1 min 10.859375 seconds\n",
      "1 min 37.3125 seconds\n",
      "1 min 42.265625 seconds\n",
      "1 min 18.84375 seconds\n",
      "1 min 18.703125 seconds\n",
      "1 min 14.921875 seconds\n",
      "1 min 13.421875 seconds\n"
     ]
    }
   ],
   "source": [
    "tick_rate = 64\n",
    "\n",
    "# parser.list_game_events()\n",
    "round_data = parser.parse_events(event_name=[\"round_start\", \"round_end\"])\n",
    "if round_data[0][0] == 'round_start':\n",
    "    start_df = round_data[0][1]\n",
    "    end_df = round_data[1][1]\n",
    "else:\n",
    "    start_df = round_data[1][1]\n",
    "    end_df = round_data[0][1]\n",
    "\n",
    "start_ticks = start_df['tick'].values.tolist()\n",
    "end_ticks = end_df['tick'].values.tolist()\n",
    "for index, start_tick in enumerate(start_ticks):\n",
    "    round_ticks = end_ticks[index]-start_tick\n",
    "    print(f\"{(int(round_ticks/tick_rate)//60)} min {(round_ticks/tick_rate)%60} seconds\")"
   ]
  },
  {
   "cell_type": "code",
   "execution_count": 47,
   "metadata": {},
   "outputs": [
    {
     "name": "stdout",
     "output_type": "stream",
     "text": [
      "Index(['life_state', 'move_collide', 'move_type', 'next_attack_time',\n",
      "       'ducking', 'spotted', 'is_walking', 'is_defusing', 'flash_duration',\n",
      "       'is_strafing', 'tick', 'steamid', 'name'],\n",
      "      dtype='object')\n"
     ]
    }
   ],
   "source": [
    "df_player = parser.parse_ticks(wanted_props=params['columns_to_checkout'])"
   ]
  },
  {
   "cell_type": "code",
   "execution_count": 61,
   "metadata": {},
   "outputs": [
    {
     "name": "stdout",
     "output_type": "stream",
     "text": [
      "<class 'list'>\n",
      "['life_state', 'move_collide', 'move_type', 'next_attack_time', 'ducking', 'spotted', 'is_walking', 'is_defusing', 'flash_duration', 'is_strafing', 'tick', 'steamid', 'name']\n"
     ]
    }
   ],
   "source": [
    "print(type(list(df_player.columns)))\n",
    "print(list(df_player.columns))\n",
    "c = list(df_player.columns)\n",
    "c.append('x')\n",
    "df_new = pd.DataFrame(columns=c)"
   ]
  },
  {
   "cell_type": "code",
   "execution_count": 62,
   "metadata": {},
   "outputs": [
    {
     "data": {
      "text/html": [
       "<div>\n",
       "<style scoped>\n",
       "    .dataframe tbody tr th:only-of-type {\n",
       "        vertical-align: middle;\n",
       "    }\n",
       "\n",
       "    .dataframe tbody tr th {\n",
       "        vertical-align: top;\n",
       "    }\n",
       "\n",
       "    .dataframe thead th {\n",
       "        text-align: right;\n",
       "    }\n",
       "</style>\n",
       "<table border=\"1\" class=\"dataframe\">\n",
       "  <thead>\n",
       "    <tr style=\"text-align: right;\">\n",
       "      <th></th>\n",
       "      <th>life_state</th>\n",
       "      <th>move_collide</th>\n",
       "      <th>move_type</th>\n",
       "      <th>next_attack_time</th>\n",
       "      <th>ducking</th>\n",
       "      <th>spotted</th>\n",
       "      <th>is_walking</th>\n",
       "      <th>is_defusing</th>\n",
       "      <th>flash_duration</th>\n",
       "      <th>is_strafing</th>\n",
       "      <th>tick</th>\n",
       "      <th>steamid</th>\n",
       "      <th>name</th>\n",
       "      <th>x</th>\n",
       "    </tr>\n",
       "  </thead>\n",
       "  <tbody>\n",
       "  </tbody>\n",
       "</table>\n",
       "</div>"
      ],
      "text/plain": [
       "Empty DataFrame\n",
       "Columns: [life_state, move_collide, move_type, next_attack_time, ducking, spotted, is_walking, is_defusing, flash_duration, is_strafing, tick, steamid, name, x]\n",
       "Index: []"
      ]
     },
     "execution_count": 62,
     "metadata": {},
     "output_type": "execute_result"
    }
   ],
   "source": [
    "df_new"
   ]
  },
  {
   "cell_type": "code",
   "execution_count": null,
   "metadata": {},
   "outputs": [],
   "source": []
  }
 ],
 "metadata": {
  "kernelspec": {
   "display_name": "Python 3",
   "language": "python",
   "name": "python3"
  },
  "language_info": {
   "codemirror_mode": {
    "name": "ipython",
    "version": 3
   },
   "file_extension": ".py",
   "mimetype": "text/x-python",
   "name": "python",
   "nbconvert_exporter": "python",
   "pygments_lexer": "ipython3",
   "version": "3.11.8"
  }
 },
 "nbformat": 4,
 "nbformat_minor": 2
}
