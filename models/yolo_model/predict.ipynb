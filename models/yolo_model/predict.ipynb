{
 "cells": [
  {
   "cell_type": "code",
   "execution_count": 1,
   "metadata": {},
   "outputs": [
    {
     "name": "stdout",
     "output_type": "stream",
     "text": [
      "\n",
      "image 1/1 X:\\code\\CSGO_AI\\data\\Player_identification\\dataset_1\\train\\images\\1_mp4-0070_jpg.rf.0c44e80d71f5a7524bd24a4a2b326bfa.jpg: 640x640 1 CTbody, 1 CThead, 10.5ms\n",
      "Speed: 5.0ms preprocess, 10.5ms inference, 3568.6ms postprocess per image at shape (1, 3, 640, 640)\n"
     ]
    }
   ],
   "source": [
    "from ultralytics import YOLO\n",
    "\n",
    "model = YOLO(\"V2.pt\")\n",
    "img_path = r\"X:\\code\\CSGO_AI\\data\\Player_identification\\dataset_1\\train\\images\\1_mp4-0070_jpg.rf.0c44e80d71f5a7524bd24a4a2b326bfa.jpg\"\n",
    "\n",
    "results = model(img_path) "
   ]
  },
  {
   "cell_type": "code",
   "execution_count": 8,
   "metadata": {},
   "outputs": [
    {
     "name": "stdout",
     "output_type": "stream",
     "text": [
      "ultralytics.engine.results.Boxes object with attributes:\n",
      "\n",
      "cls: tensor([0., 1.], device='cuda:0')\n",
      "conf: tensor([0.7823, 0.7684], device='cuda:0')\n",
      "data: tensor([[400.1130, 377.9867, 462.8953, 680.8085,   0.7823,   0.0000],\n",
      "        [424.8782, 375.6101, 455.5013, 444.3508,   0.7684,   1.0000]], device='cuda:0')\n",
      "id: None\n",
      "is_track: False\n",
      "orig_shape: (1024, 1024)\n",
      "shape: torch.Size([2, 6])\n",
      "xywh: tensor([[431.5042, 529.3976,  62.7822, 302.8218],\n",
      "        [440.1898, 409.9805,  30.6230,  68.7407]], device='cuda:0')\n",
      "xywhn: tensor([[0.4214, 0.5170, 0.0613, 0.2957],\n",
      "        [0.4299, 0.4004, 0.0299, 0.0671]], device='cuda:0')\n",
      "xyxy: tensor([[400.1130, 377.9867, 462.8953, 680.8085],\n",
      "        [424.8782, 375.6101, 455.5013, 444.3508]], device='cuda:0')\n",
      "xyxyn: tensor([[0.3907, 0.3691, 0.4520, 0.6649],\n",
      "        [0.4149, 0.3668, 0.4448, 0.4339]], device='cuda:0')\n"
     ]
    }
   ],
   "source": [
    "dir(results[0])\n",
    "print(results[0].boxes)"
   ]
  },
  {
   "cell_type": "code",
   "execution_count": null,
   "metadata": {},
   "outputs": [],
   "source": []
  }
 ],
 "metadata": {
  "kernelspec": {
   "display_name": "Python 3",
   "language": "python",
   "name": "python3"
  },
  "language_info": {
   "codemirror_mode": {
    "name": "ipython",
    "version": 3
   },
   "file_extension": ".py",
   "mimetype": "text/x-python",
   "name": "python",
   "nbconvert_exporter": "python",
   "pygments_lexer": "ipython3",
   "version": "3.11.8"
  }
 },
 "nbformat": 4,
 "nbformat_minor": 2
}
